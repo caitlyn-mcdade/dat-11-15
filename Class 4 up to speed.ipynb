{
 "cells": [
  {
   "cell_type": "code",
   "execution_count": 2,
   "id": "3844ade1",
   "metadata": {},
   "outputs": [],
   "source": [
    "import pandas as pd\n",
    "import numpy as np\n",
    "df = pd.read_csv(\"/Users/liamsweeney/dat-11-15/dat-11-15/dat-11-15/dat-11-15/ClassMaterial/Unit1/data/master.csv\", parse_dates = ['visit_date'])"
   ]
  },
  {
   "cell_type": "code",
   "execution_count": 3,
   "id": "94aca7c1",
   "metadata": {},
   "outputs": [
    {
     "data": {
      "text/html": [
       "<div>\n",
       "<style scoped>\n",
       "    .dataframe tbody tr th:only-of-type {\n",
       "        vertical-align: middle;\n",
       "    }\n",
       "\n",
       "    .dataframe tbody tr th {\n",
       "        vertical-align: top;\n",
       "    }\n",
       "\n",
       "    .dataframe thead th {\n",
       "        text-align: right;\n",
       "    }\n",
       "</style>\n",
       "<table border=\"1\" class=\"dataframe\">\n",
       "  <thead>\n",
       "    <tr style=\"text-align: right;\">\n",
       "      <th></th>\n",
       "      <th>id</th>\n",
       "      <th>visit_date</th>\n",
       "      <th>visitors</th>\n",
       "      <th>day_of_week</th>\n",
       "      <th>holiday</th>\n",
       "      <th>genre</th>\n",
       "      <th>area</th>\n",
       "      <th>latitude</th>\n",
       "      <th>longitude</th>\n",
       "      <th>reserve_visitors</th>\n",
       "    </tr>\n",
       "  </thead>\n",
       "  <tbody>\n",
       "    <tr>\n",
       "      <th>0</th>\n",
       "      <td>air_ba937bf13d40fb24</td>\n",
       "      <td>2016-01-13</td>\n",
       "      <td>25</td>\n",
       "      <td>Wednesday</td>\n",
       "      <td>0</td>\n",
       "      <td>Dining bar</td>\n",
       "      <td>Tōkyō-to Minato-ku Shibakōen</td>\n",
       "      <td>35.658068</td>\n",
       "      <td>139.751599</td>\n",
       "      <td>NaN</td>\n",
       "    </tr>\n",
       "    <tr>\n",
       "      <th>1</th>\n",
       "      <td>air_ba937bf13d40fb24</td>\n",
       "      <td>2016-01-14</td>\n",
       "      <td>32</td>\n",
       "      <td>Thursday</td>\n",
       "      <td>0</td>\n",
       "      <td>Dining bar</td>\n",
       "      <td>Tōkyō-to Minato-ku Shibakōen</td>\n",
       "      <td>35.658068</td>\n",
       "      <td>139.751599</td>\n",
       "      <td>NaN</td>\n",
       "    </tr>\n",
       "    <tr>\n",
       "      <th>2</th>\n",
       "      <td>air_ba937bf13d40fb24</td>\n",
       "      <td>2016-01-15</td>\n",
       "      <td>29</td>\n",
       "      <td>Friday</td>\n",
       "      <td>0</td>\n",
       "      <td>Dining bar</td>\n",
       "      <td>Tōkyō-to Minato-ku Shibakōen</td>\n",
       "      <td>35.658068</td>\n",
       "      <td>139.751599</td>\n",
       "      <td>NaN</td>\n",
       "    </tr>\n",
       "    <tr>\n",
       "      <th>3</th>\n",
       "      <td>air_ba937bf13d40fb24</td>\n",
       "      <td>2016-01-16</td>\n",
       "      <td>22</td>\n",
       "      <td>Saturday</td>\n",
       "      <td>0</td>\n",
       "      <td>Dining bar</td>\n",
       "      <td>Tōkyō-to Minato-ku Shibakōen</td>\n",
       "      <td>35.658068</td>\n",
       "      <td>139.751599</td>\n",
       "      <td>NaN</td>\n",
       "    </tr>\n",
       "    <tr>\n",
       "      <th>4</th>\n",
       "      <td>air_ba937bf13d40fb24</td>\n",
       "      <td>2016-01-18</td>\n",
       "      <td>6</td>\n",
       "      <td>Monday</td>\n",
       "      <td>0</td>\n",
       "      <td>Dining bar</td>\n",
       "      <td>Tōkyō-to Minato-ku Shibakōen</td>\n",
       "      <td>35.658068</td>\n",
       "      <td>139.751599</td>\n",
       "      <td>NaN</td>\n",
       "    </tr>\n",
       "  </tbody>\n",
       "</table>\n",
       "</div>"
      ],
      "text/plain": [
       "                     id visit_date  visitors day_of_week  holiday       genre  \\\n",
       "0  air_ba937bf13d40fb24 2016-01-13        25   Wednesday        0  Dining bar   \n",
       "1  air_ba937bf13d40fb24 2016-01-14        32    Thursday        0  Dining bar   \n",
       "2  air_ba937bf13d40fb24 2016-01-15        29      Friday        0  Dining bar   \n",
       "3  air_ba937bf13d40fb24 2016-01-16        22    Saturday        0  Dining bar   \n",
       "4  air_ba937bf13d40fb24 2016-01-18         6      Monday        0  Dining bar   \n",
       "\n",
       "                           area   latitude   longitude  reserve_visitors  \n",
       "0  Tōkyō-to Minato-ku Shibakōen  35.658068  139.751599               NaN  \n",
       "1  Tōkyō-to Minato-ku Shibakōen  35.658068  139.751599               NaN  \n",
       "2  Tōkyō-to Minato-ku Shibakōen  35.658068  139.751599               NaN  \n",
       "3  Tōkyō-to Minato-ku Shibakōen  35.658068  139.751599               NaN  \n",
       "4  Tōkyō-to Minato-ku Shibakōen  35.658068  139.751599               NaN  "
      ]
     },
     "execution_count": 3,
     "metadata": {},
     "output_type": "execute_result"
    }
   ],
   "source": [
    "df.head()"
   ]
  },
  {
   "cell_type": "code",
   "execution_count": 4,
   "id": "0a516239",
   "metadata": {},
   "outputs": [],
   "source": [
    "df['PartofWeek'] = np.where(df['day_of_week'].isin(['Saturday', 'Sunday']), 'Weekend', 'Weekday')"
   ]
  },
  {
   "cell_type": "code",
   "execution_count": 5,
   "id": "71dfa1eb",
   "metadata": {},
   "outputs": [],
   "source": [
    "conditions = [\n",
    "    df['visitors'] < 20,\n",
    "    df['visitors'].between(21, 30),\n",
    "    df['visitors'] > 30\n",
    "]\n",
    "\n",
    "results = [\n",
    "    'Low Traffic',\n",
    "    'Medium Traffic',\n",
    "    'High Traffic'\n",
    "]\n",
    "\n",
    "df['Traffic'] = np.select(conditions, results, 'Other')"
   ]
  },
  {
   "cell_type": "code",
   "execution_count": 6,
   "id": "42842262",
   "metadata": {},
   "outputs": [
    {
     "data": {
      "text/plain": [
       "0         Medium Traffic\n",
       "1           High Traffic\n",
       "2         Medium Traffic\n",
       "3         Medium Traffic\n",
       "4            Low Traffic\n",
       "               ...      \n",
       "252103      High Traffic\n",
       "252104      High Traffic\n",
       "252105      High Traffic\n",
       "252106      High Traffic\n",
       "252107    Medium Traffic\n",
       "Name: Traffic, Length: 252108, dtype: object"
      ]
     },
     "execution_count": 6,
     "metadata": {},
     "output_type": "execute_result"
    }
   ],
   "source": [
    "df['Traffic']"
   ]
  },
  {
   "cell_type": "code",
   "execution_count": 7,
   "id": "196747f5",
   "metadata": {},
   "outputs": [
    {
     "data": {
      "text/plain": [
       "0         Tōkyō-to Minato-ku Shibakōen\n",
       "1         Tōkyō-to Minato-ku Shibakōen\n",
       "2         Tōkyō-to Minato-ku Shibakōen\n",
       "3         Tōkyō-to Minato-ku Shibakōen\n",
       "4         Tōkyō-to Minato-ku Shibakōen\n",
       "                      ...             \n",
       "252103    Hyōgo-ken Kōbe-shi Kumoidōri\n",
       "252104    Hyōgo-ken Kōbe-shi Kumoidōri\n",
       "252105    Hyōgo-ken Kōbe-shi Kumoidōri\n",
       "252106    Hyōgo-ken Kōbe-shi Kumoidōri\n",
       "252107    Hyōgo-ken Kōbe-shi Kumoidōri\n",
       "Name: area, Length: 252108, dtype: object"
      ]
     },
     "execution_count": 7,
     "metadata": {},
     "output_type": "execute_result"
    }
   ],
   "source": [
    "df['area']"
   ]
  },
  {
   "cell_type": "code",
   "execution_count": 8,
   "id": "1b019ef9",
   "metadata": {},
   "outputs": [],
   "source": [
    "def clean_string(value):\n",
    "    return value.lower().replace('-', '')"
   ]
  },
  {
   "cell_type": "code",
   "execution_count": 10,
   "id": "a553b921",
   "metadata": {},
   "outputs": [
    {
     "data": {
      "text/plain": [
       "0         tōkyōto minatoku shibakōen\n",
       "1         tōkyōto minatoku shibakōen\n",
       "2         tōkyōto minatoku shibakōen\n",
       "3         tōkyōto minatoku shibakōen\n",
       "4         tōkyōto minatoku shibakōen\n",
       "                     ...            \n",
       "252103    hyōgoken kōbeshi kumoidōri\n",
       "252104    hyōgoken kōbeshi kumoidōri\n",
       "252105    hyōgoken kōbeshi kumoidōri\n",
       "252106    hyōgoken kōbeshi kumoidōri\n",
       "252107    hyōgoken kōbeshi kumoidōri\n",
       "Name: area, Length: 252108, dtype: object"
      ]
     },
     "execution_count": 10,
     "metadata": {},
     "output_type": "execute_result"
    }
   ],
   "source": [
    "df['area'].apply(clean_string)"
   ]
  },
  {
   "cell_type": "code",
   "execution_count": null,
   "id": "0da628c5",
   "metadata": {},
   "outputs": [],
   "source": []
  }
 ],
 "metadata": {
  "kernelspec": {
   "display_name": "Python 3",
   "language": "python",
   "name": "python3"
  },
  "language_info": {
   "codemirror_mode": {
    "name": "ipython",
    "version": 3
   },
   "file_extension": ".py",
   "mimetype": "text/x-python",
   "name": "python",
   "nbconvert_exporter": "python",
   "pygments_lexer": "ipython3",
   "version": "3.8.8"
  }
 },
 "nbformat": 4,
 "nbformat_minor": 5
}
