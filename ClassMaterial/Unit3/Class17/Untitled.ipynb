{
 "cells": [
  {
   "cell_type": "code",
   "execution_count": 3,
   "id": "ee4ffef5",
   "metadata": {},
   "outputs": [],
   "source": [
    "import numpy as np\n",
    "import pandas as pd"
   ]
  },
  {
   "cell_type": "code",
   "execution_count": 4,
   "id": "52aabf05",
   "metadata": {},
   "outputs": [],
   "source": [
    "df = pd.read_csv('/Users/liamsweeney/dat-11-15/App/streamlit-app/Homework3/insurance_data/insurance_premiums.csv')"
   ]
  },
  {
   "cell_type": "code",
   "execution_count": null,
   "id": "a50cb3ef",
   "metadata": {},
   "outputs": [],
   "source": [
    "weights = np.random.normal()"
   ]
  },
  {
   "cell_type": "code",
   "execution_count": 5,
   "id": "87182689",
   "metadata": {},
   "outputs": [],
   "source": [
    "def sigmoid(x):\n",
    "    return 1/(1+np.exp(-x))"
   ]
  },
  {
   "cell_type": "code",
   "execution_count": 6,
   "id": "ad75f089",
   "metadata": {},
   "outputs": [
    {
     "data": {
      "text/plain": [
       "0.5"
      ]
     },
     "execution_count": 6,
     "metadata": {},
     "output_type": "execute_result"
    }
   ],
   "source": [
    "sigmoid(0)"
   ]
  },
  {
   "cell_type": "code",
   "execution_count": null,
   "id": "6a0d4a52",
   "metadata": {},
   "outputs": [],
   "source": []
  }
 ],
 "metadata": {
  "kernelspec": {
   "display_name": "Python 3 (ipykernel)",
   "language": "python",
   "name": "python3"
  },
  "language_info": {
   "codemirror_mode": {
    "name": "ipython",
    "version": 3
   },
   "file_extension": ".py",
   "mimetype": "text/x-python",
   "name": "python",
   "nbconvert_exporter": "python",
   "pygments_lexer": "ipython3",
   "version": "3.8.8"
  }
 },
 "nbformat": 4,
 "nbformat_minor": 5
}
