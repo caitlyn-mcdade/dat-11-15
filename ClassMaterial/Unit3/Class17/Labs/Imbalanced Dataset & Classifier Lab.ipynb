{
 "cells": [
  {
   "cell_type": "markdown",
   "metadata": {},
   "source": [
    "### Working With Imbalanced Data and Classifier Evaluation\n",
    "\n",
    "In today's lab, we're going to work through a sample classification problem that will allow us to see how to improve and evaluate a classifier where there's imbalanced data.  \n",
    "\n",
    "The point is to get used to using a confusion matrix, and using metrics like `precision`, `recall` and the `f1_score` in order to think about how well our model is performing across different labels."
   ]
  },
  {
   "cell_type": "markdown",
   "metadata": {},
   "source": [
    "**Step 1:** Load in the `pima` dataset, and do the following:\n",
    "\n",
    " - Create training, validation and test sets\n",
    " - Fit a `GradientBoostingClassifier` with the default configuration on your training set\n",
    " - Get both model accuracy and the `f1_score` on the validation set"
   ]
  },
  {
   "cell_type": "code",
   "execution_count": 21,
   "metadata": {},
   "outputs": [],
   "source": [
    "# your code here\n",
    "import pandas as pd\n",
    "import numpy as np\n",
    "from sklearn.model_selection import train_test_split\n",
    "from xgboost import XGBClassifier\n",
    "from sklearn.pipeline import make_pipeline\n",
    "import category_encoders as ce\n",
    "from sklearn.metrics import f1_score"
   ]
  },
  {
   "cell_type": "code",
   "execution_count": 22,
   "metadata": {},
   "outputs": [],
   "source": [
    "df = pd.read_csv('/Users/liamsweeney/dat-11-15/ClassMaterial/Unit3/data/pima.csv')"
   ]
  },
  {
   "cell_type": "code",
   "execution_count": 23,
   "metadata": {},
   "outputs": [
    {
     "data": {
      "text/html": [
       "<div>\n",
       "<style scoped>\n",
       "    .dataframe tbody tr th:only-of-type {\n",
       "        vertical-align: middle;\n",
       "    }\n",
       "\n",
       "    .dataframe tbody tr th {\n",
       "        vertical-align: top;\n",
       "    }\n",
       "\n",
       "    .dataframe thead th {\n",
       "        text-align: right;\n",
       "    }\n",
       "</style>\n",
       "<table border=\"1\" class=\"dataframe\">\n",
       "  <thead>\n",
       "    <tr style=\"text-align: right;\">\n",
       "      <th></th>\n",
       "      <th>NumChildren</th>\n",
       "      <th>GlucoseConcentration</th>\n",
       "      <th>Diastolic</th>\n",
       "      <th>BodyFatTest</th>\n",
       "      <th>SerumInsulin</th>\n",
       "      <th>BMI</th>\n",
       "      <th>DiabeticScore</th>\n",
       "      <th>Age</th>\n",
       "      <th>Diabetic</th>\n",
       "    </tr>\n",
       "  </thead>\n",
       "  <tbody>\n",
       "    <tr>\n",
       "      <th>0</th>\n",
       "      <td>6</td>\n",
       "      <td>148</td>\n",
       "      <td>72</td>\n",
       "      <td>35</td>\n",
       "      <td>0</td>\n",
       "      <td>33.6</td>\n",
       "      <td>0.627</td>\n",
       "      <td>50</td>\n",
       "      <td>1</td>\n",
       "    </tr>\n",
       "    <tr>\n",
       "      <th>1</th>\n",
       "      <td>1</td>\n",
       "      <td>85</td>\n",
       "      <td>66</td>\n",
       "      <td>29</td>\n",
       "      <td>0</td>\n",
       "      <td>26.6</td>\n",
       "      <td>0.351</td>\n",
       "      <td>31</td>\n",
       "      <td>0</td>\n",
       "    </tr>\n",
       "    <tr>\n",
       "      <th>2</th>\n",
       "      <td>8</td>\n",
       "      <td>183</td>\n",
       "      <td>64</td>\n",
       "      <td>0</td>\n",
       "      <td>0</td>\n",
       "      <td>23.3</td>\n",
       "      <td>0.672</td>\n",
       "      <td>32</td>\n",
       "      <td>1</td>\n",
       "    </tr>\n",
       "    <tr>\n",
       "      <th>3</th>\n",
       "      <td>1</td>\n",
       "      <td>89</td>\n",
       "      <td>66</td>\n",
       "      <td>23</td>\n",
       "      <td>94</td>\n",
       "      <td>28.1</td>\n",
       "      <td>0.167</td>\n",
       "      <td>21</td>\n",
       "      <td>0</td>\n",
       "    </tr>\n",
       "    <tr>\n",
       "      <th>4</th>\n",
       "      <td>0</td>\n",
       "      <td>137</td>\n",
       "      <td>40</td>\n",
       "      <td>35</td>\n",
       "      <td>168</td>\n",
       "      <td>43.1</td>\n",
       "      <td>2.288</td>\n",
       "      <td>33</td>\n",
       "      <td>1</td>\n",
       "    </tr>\n",
       "    <tr>\n",
       "      <th>...</th>\n",
       "      <td>...</td>\n",
       "      <td>...</td>\n",
       "      <td>...</td>\n",
       "      <td>...</td>\n",
       "      <td>...</td>\n",
       "      <td>...</td>\n",
       "      <td>...</td>\n",
       "      <td>...</td>\n",
       "      <td>...</td>\n",
       "    </tr>\n",
       "    <tr>\n",
       "      <th>763</th>\n",
       "      <td>10</td>\n",
       "      <td>101</td>\n",
       "      <td>76</td>\n",
       "      <td>48</td>\n",
       "      <td>180</td>\n",
       "      <td>32.9</td>\n",
       "      <td>0.171</td>\n",
       "      <td>63</td>\n",
       "      <td>0</td>\n",
       "    </tr>\n",
       "    <tr>\n",
       "      <th>764</th>\n",
       "      <td>2</td>\n",
       "      <td>122</td>\n",
       "      <td>70</td>\n",
       "      <td>27</td>\n",
       "      <td>0</td>\n",
       "      <td>36.8</td>\n",
       "      <td>0.340</td>\n",
       "      <td>27</td>\n",
       "      <td>0</td>\n",
       "    </tr>\n",
       "    <tr>\n",
       "      <th>765</th>\n",
       "      <td>5</td>\n",
       "      <td>121</td>\n",
       "      <td>72</td>\n",
       "      <td>23</td>\n",
       "      <td>112</td>\n",
       "      <td>26.2</td>\n",
       "      <td>0.245</td>\n",
       "      <td>30</td>\n",
       "      <td>0</td>\n",
       "    </tr>\n",
       "    <tr>\n",
       "      <th>766</th>\n",
       "      <td>1</td>\n",
       "      <td>126</td>\n",
       "      <td>60</td>\n",
       "      <td>0</td>\n",
       "      <td>0</td>\n",
       "      <td>30.1</td>\n",
       "      <td>0.349</td>\n",
       "      <td>47</td>\n",
       "      <td>1</td>\n",
       "    </tr>\n",
       "    <tr>\n",
       "      <th>767</th>\n",
       "      <td>1</td>\n",
       "      <td>93</td>\n",
       "      <td>70</td>\n",
       "      <td>31</td>\n",
       "      <td>0</td>\n",
       "      <td>30.4</td>\n",
       "      <td>0.315</td>\n",
       "      <td>23</td>\n",
       "      <td>0</td>\n",
       "    </tr>\n",
       "  </tbody>\n",
       "</table>\n",
       "<p>768 rows × 9 columns</p>\n",
       "</div>"
      ],
      "text/plain": [
       "     NumChildren  GlucoseConcentration  Diastolic  BodyFatTest  SerumInsulin  \\\n",
       "0              6                   148         72           35             0   \n",
       "1              1                    85         66           29             0   \n",
       "2              8                   183         64            0             0   \n",
       "3              1                    89         66           23            94   \n",
       "4              0                   137         40           35           168   \n",
       "..           ...                   ...        ...          ...           ...   \n",
       "763           10                   101         76           48           180   \n",
       "764            2                   122         70           27             0   \n",
       "765            5                   121         72           23           112   \n",
       "766            1                   126         60            0             0   \n",
       "767            1                    93         70           31             0   \n",
       "\n",
       "      BMI  DiabeticScore  Age  Diabetic  \n",
       "0    33.6          0.627   50         1  \n",
       "1    26.6          0.351   31         0  \n",
       "2    23.3          0.672   32         1  \n",
       "3    28.1          0.167   21         0  \n",
       "4    43.1          2.288   33         1  \n",
       "..    ...            ...  ...       ...  \n",
       "763  32.9          0.171   63         0  \n",
       "764  36.8          0.340   27         0  \n",
       "765  26.2          0.245   30         0  \n",
       "766  30.1          0.349   47         1  \n",
       "767  30.4          0.315   23         0  \n",
       "\n",
       "[768 rows x 9 columns]"
      ]
     },
     "execution_count": 23,
     "metadata": {},
     "output_type": "execute_result"
    }
   ],
   "source": [
    "df"
   ]
  },
  {
   "cell_type": "code",
   "execution_count": 24,
   "metadata": {},
   "outputs": [],
   "source": [
    "mod = XGBClassifier(eval_metric = 'logloss')"
   ]
  },
  {
   "cell_type": "code",
   "execution_count": 25,
   "metadata": {},
   "outputs": [],
   "source": [
    "X_train, X_test, y_train, y_test = train_test_split(df.drop('Diabetic', axis = 1), df['Diabetic'], \n",
    "                                                    stratify = df['Diabetic'],\n",
    "                                                    test_size = 0.2)"
   ]
  },
  {
   "cell_type": "code",
   "execution_count": 26,
   "metadata": {},
   "outputs": [],
   "source": [
    "X_train, X_val, y_train, y_val = train_test_split(X_train, y_train, \n",
    "                                                    stratify = y_train,\n",
    "                                                    test_size = 0.2)"
   ]
  },
  {
   "cell_type": "code",
   "execution_count": 27,
   "metadata": {},
   "outputs": [
    {
     "data": {
      "text/plain": [
       "0.7398373983739838"
      ]
     },
     "execution_count": 27,
     "metadata": {},
     "output_type": "execute_result"
    }
   ],
   "source": [
    "mod.fit(X_train, y_train).score(X_val, y_val)"
   ]
  },
  {
   "cell_type": "code",
   "execution_count": 28,
   "metadata": {},
   "outputs": [
    {
     "data": {
      "text/plain": [
       "0.6"
      ]
     },
     "execution_count": 28,
     "metadata": {},
     "output_type": "execute_result"
    }
   ],
   "source": [
    "f1_score(mod.predict(X_val), y_val)"
   ]
  },
  {
   "cell_type": "code",
   "execution_count": 29,
   "metadata": {},
   "outputs": [
    {
     "name": "stderr",
     "output_type": "stream",
     "text": [
      "\n",
      "Bad key text.latex.preview in file /Users/liamsweeney/opt/anaconda3/lib/python3.8/site-packages/matplotlib/mpl-data/stylelib/_classic_test.mplstyle, line 123 ('text.latex.preview : False')\n",
      "You probably need to get an updated matplotlibrc file from\n",
      "https://github.com/matplotlib/matplotlib/blob/v3.5.0/matplotlibrc.template\n",
      "or from the matplotlib source distribution\n",
      "\n",
      "Bad key mathtext.fallback_to_cm in file /Users/liamsweeney/opt/anaconda3/lib/python3.8/site-packages/matplotlib/mpl-data/stylelib/_classic_test.mplstyle, line 155 ('mathtext.fallback_to_cm : True  # When True, use symbols from the Computer Modern')\n",
      "You probably need to get an updated matplotlibrc file from\n",
      "https://github.com/matplotlib/matplotlib/blob/v3.5.0/matplotlibrc.template\n",
      "or from the matplotlib source distribution\n",
      "\n",
      "Bad key savefig.jpeg_quality in file /Users/liamsweeney/opt/anaconda3/lib/python3.8/site-packages/matplotlib/mpl-data/stylelib/_classic_test.mplstyle, line 418 ('savefig.jpeg_quality: 95       # when a jpeg is saved, the default quality parameter.')\n",
      "You probably need to get an updated matplotlibrc file from\n",
      "https://github.com/matplotlib/matplotlib/blob/v3.5.0/matplotlibrc.template\n",
      "or from the matplotlib source distribution\n",
      "\n",
      "Bad key keymap.all_axes in file /Users/liamsweeney/opt/anaconda3/lib/python3.8/site-packages/matplotlib/mpl-data/stylelib/_classic_test.mplstyle, line 466 ('keymap.all_axes : a                 # enable all axes')\n",
      "You probably need to get an updated matplotlibrc file from\n",
      "https://github.com/matplotlib/matplotlib/blob/v3.5.0/matplotlibrc.template\n",
      "or from the matplotlib source distribution\n",
      "\n",
      "Bad key animation.avconv_path in file /Users/liamsweeney/opt/anaconda3/lib/python3.8/site-packages/matplotlib/mpl-data/stylelib/_classic_test.mplstyle, line 477 ('animation.avconv_path: avconv     # Path to avconv binary. Without full path')\n",
      "You probably need to get an updated matplotlibrc file from\n",
      "https://github.com/matplotlib/matplotlib/blob/v3.5.0/matplotlibrc.template\n",
      "or from the matplotlib source distribution\n",
      "\n",
      "Bad key animation.avconv_args in file /Users/liamsweeney/opt/anaconda3/lib/python3.8/site-packages/matplotlib/mpl-data/stylelib/_classic_test.mplstyle, line 479 ('animation.avconv_args:            # Additional arguments to pass to avconv')\n",
      "You probably need to get an updated matplotlibrc file from\n",
      "https://github.com/matplotlib/matplotlib/blob/v3.5.0/matplotlibrc.template\n",
      "or from the matplotlib source distribution\n"
     ]
    },
    {
     "data": {
      "image/png": "[encoded data removed]",
      "text/plain": [
       "<Figure size 432x288 with 2 Axes>"
      ]
     },
     "metadata": {
      "needs_background": "light"
     },
     "output_type": "display_data"
    }
   ],
   "source": [
    "from sklearn.metrics import plot_confusion_matrix\n",
    "\n",
    "plot_confusion_matrix(mod, X_val, y_val);"
   ]
  },
  {
   "cell_type": "markdown",
   "metadata": {},
   "source": [
    "**Step 2:** Look at both the confusion matrix and classification report on your validation set.  Make sure you can recall what each metric means."
   ]
  },
  {
   "cell_type": "code",
   "execution_count": 30,
   "metadata": {},
   "outputs": [
    {
     "data": {
      "image/png": "[encoded data removed]",
      "text/plain": [
       "<Figure size 432x288 with 2 Axes>"
      ]
     },
     "metadata": {
      "needs_background": "light"
     },
     "output_type": "display_data"
    }
   ],
   "source": [
    "# your code here\n",
    "plot_confusion_matrix(mod, X_val, y_val, normalize = 'true');"
   ]
  },
  {
   "cell_type": "code",
   "execution_count": 31,
   "metadata": {},
   "outputs": [],
   "source": [
    "from sklearn.metrics import classification_report"
   ]
  },
  {
   "cell_type": "code",
   "execution_count": 32,
   "metadata": {},
   "outputs": [
    {
     "name": "stdout",
     "output_type": "stream",
     "text": [
      "              precision    recall  f1-score   support\n",
      "\n",
      "           0       0.84      0.78      0.81        86\n",
      "           1       0.56      0.65      0.60        37\n",
      "\n",
      "    accuracy                           0.74       123\n",
      "   macro avg       0.70      0.71      0.70       123\n",
      "weighted avg       0.75      0.74      0.74       123\n",
      "\n"
     ]
    }
   ],
   "source": [
    "print(classification_report(mod.predict(X_val), y_val))"
   ]
  },
  {
   "cell_type": "markdown",
   "metadata": {},
   "source": [
    "**Step 3:** Do a parameter search using the following four categories:\n",
    " - `n_estimators`\n",
    " - `max_depth`\n",
    " - `subsample`\n",
    " - `scale_pos_weight`\n",
    " \n",
    " When you are done, refit your model on the training data using the best combination, and look at your new classification report and confusion matrix to see how they changed"
   ]
  },
  {
   "cell_type": "code",
   "execution_count": 33,
   "metadata": {},
   "outputs": [
    {
     "name": "stdout",
     "output_type": "stream",
     "text": [
      "Fitting model for 50 rounds, 3 tree depth, 1.0 sampling rate, 1 positive sample weight\n",
      "Fitting model for 50 rounds, 3 tree depth, 1.0 sampling rate, 2.8713450292397664 positive sample weight\n",
      "Fitting model for 50 rounds, 3 tree depth, 1.0 sampling rate, 5 positive sample weight\n",
      "Fitting model for 50 rounds, 3 tree depth, 0.8 sampling rate, 1 positive sample weight\n",
      "Fitting model for 50 rounds, 3 tree depth, 0.8 sampling rate, 2.8713450292397664 positive sample weight\n",
      "Fitting model for 50 rounds, 3 tree depth, 0.8 sampling rate, 5 positive sample weight\n",
      "Fitting model for 50 rounds, 3 tree depth, 0.6 sampling rate, 1 positive sample weight\n",
      "Fitting model for 50 rounds, 3 tree depth, 0.6 sampling rate, 2.8713450292397664 positive sample weight\n",
      "Fitting model for 50 rounds, 3 tree depth, 0.6 sampling rate, 5 positive sample weight\n",
      "Fitting model for 50 rounds, 4 tree depth, 1.0 sampling rate, 1 positive sample weight\n",
      "Fitting model for 50 rounds, 4 tree depth, 1.0 sampling rate, 2.8713450292397664 positive sample weight\n",
      "Fitting model for 50 rounds, 4 tree depth, 1.0 sampling rate, 5 positive sample weight\n",
      "Fitting model for 50 rounds, 4 tree depth, 0.8 sampling rate, 1 positive sample weight\n",
      "Fitting model for 50 rounds, 4 tree depth, 0.8 sampling rate, 2.8713450292397664 positive sample weight\n",
      "Fitting model for 50 rounds, 4 tree depth, 0.8 sampling rate, 5 positive sample weight\n",
      "Fitting model for 50 rounds, 4 tree depth, 0.6 sampling rate, 1 positive sample weight\n",
      "Fitting model for 50 rounds, 4 tree depth, 0.6 sampling rate, 2.8713450292397664 positive sample weight\n",
      "Fitting model for 50 rounds, 4 tree depth, 0.6 sampling rate, 5 positive sample weight\n",
      "Fitting model for 50 rounds, 5 tree depth, 1.0 sampling rate, 1 positive sample weight\n",
      "Fitting model for 50 rounds, 5 tree depth, 1.0 sampling rate, 2.8713450292397664 positive sample weight\n",
      "Fitting model for 50 rounds, 5 tree depth, 1.0 sampling rate, 5 positive sample weight\n",
      "Fitting model for 50 rounds, 5 tree depth, 0.8 sampling rate, 1 positive sample weight\n",
      "Fitting model for 50 rounds, 5 tree depth, 0.8 sampling rate, 2.8713450292397664 positive sample weight\n",
      "Fitting model for 50 rounds, 5 tree depth, 0.8 sampling rate, 5 positive sample weight\n",
      "Fitting model for 50 rounds, 5 tree depth, 0.6 sampling rate, 1 positive sample weight\n",
      "Fitting model for 50 rounds, 5 tree depth, 0.6 sampling rate, 2.8713450292397664 positive sample weight\n",
      "Fitting model for 50 rounds, 5 tree depth, 0.6 sampling rate, 5 positive sample weight\n",
      "Fitting model for 100 rounds, 3 tree depth, 1.0 sampling rate, 1 positive sample weight\n",
      "Fitting model for 100 rounds, 3 tree depth, 1.0 sampling rate, 2.8713450292397664 positive sample weight\n",
      "Fitting model for 100 rounds, 3 tree depth, 1.0 sampling rate, 5 positive sample weight\n",
      "Fitting model for 100 rounds, 3 tree depth, 0.8 sampling rate, 1 positive sample weight\n",
      "Fitting model for 100 rounds, 3 tree depth, 0.8 sampling rate, 2.8713450292397664 positive sample weight\n",
      "Fitting model for 100 rounds, 3 tree depth, 0.8 sampling rate, 5 positive sample weight\n",
      "Fitting model for 100 rounds, 3 tree depth, 0.6 sampling rate, 1 positive sample weight\n",
      "Fitting model for 100 rounds, 3 tree depth, 0.6 sampling rate, 2.8713450292397664 positive sample weight\n",
      "Fitting model for 100 rounds, 3 tree depth, 0.6 sampling rate, 5 positive sample weight\n",
      "Fitting model for 100 rounds, 4 tree depth, 1.0 sampling rate, 1 positive sample weight\n",
      "Fitting model for 100 rounds, 4 tree depth, 1.0 sampling rate, 2.8713450292397664 positive sample weight\n",
      "Fitting model for 100 rounds, 4 tree depth, 1.0 sampling rate, 5 positive sample weight\n",
      "Fitting model for 100 rounds, 4 tree depth, 0.8 sampling rate, 1 positive sample weight\n",
      "Fitting model for 100 rounds, 4 tree depth, 0.8 sampling rate, 2.8713450292397664 positive sample weight\n",
      "Fitting model for 100 rounds, 4 tree depth, 0.8 sampling rate, 5 positive sample weight\n",
      "Fitting model for 100 rounds, 4 tree depth, 0.6 sampling rate, 1 positive sample weight\n",
      "Fitting model for 100 rounds, 4 tree depth, 0.6 sampling rate, 2.8713450292397664 positive sample weight\n",
      "Fitting model for 100 rounds, 4 tree depth, 0.6 sampling rate, 5 positive sample weight\n",
      "Fitting model for 100 rounds, 5 tree depth, 1.0 sampling rate, 1 positive sample weight\n",
      "Fitting model for 100 rounds, 5 tree depth, 1.0 sampling rate, 2.8713450292397664 positive sample weight\n",
      "Fitting model for 100 rounds, 5 tree depth, 1.0 sampling rate, 5 positive sample weight\n",
      "Fitting model for 100 rounds, 5 tree depth, 0.8 sampling rate, 1 positive sample weight\n",
      "Fitting model for 100 rounds, 5 tree depth, 0.8 sampling rate, 2.8713450292397664 positive sample weight\n",
      "Fitting model for 100 rounds, 5 tree depth, 0.8 sampling rate, 5 positive sample weight\n",
      "Fitting model for 100 rounds, 5 tree depth, 0.6 sampling rate, 1 positive sample weight\n",
      "Fitting model for 100 rounds, 5 tree depth, 0.6 sampling rate, 2.8713450292397664 positive sample weight\n",
      "Fitting model for 100 rounds, 5 tree depth, 0.6 sampling rate, 5 positive sample weight\n",
      "Fitting model for 150 rounds, 3 tree depth, 1.0 sampling rate, 1 positive sample weight\n",
      "Fitting model for 150 rounds, 3 tree depth, 1.0 sampling rate, 2.8713450292397664 positive sample weight\n",
      "Fitting model for 150 rounds, 3 tree depth, 1.0 sampling rate, 5 positive sample weight\n",
      "Fitting model for 150 rounds, 3 tree depth, 0.8 sampling rate, 1 positive sample weight\n",
      "Fitting model for 150 rounds, 3 tree depth, 0.8 sampling rate, 2.8713450292397664 positive sample weight\n",
      "Fitting model for 150 rounds, 3 tree depth, 0.8 sampling rate, 5 positive sample weight\n",
      "Fitting model for 150 rounds, 3 tree depth, 0.6 sampling rate, 1 positive sample weight\n",
      "Fitting model for 150 rounds, 3 tree depth, 0.6 sampling rate, 2.8713450292397664 positive sample weight\n",
      "Fitting model for 150 rounds, 3 tree depth, 0.6 sampling rate, 5 positive sample weight\n",
      "Fitting model for 150 rounds, 4 tree depth, 1.0 sampling rate, 1 positive sample weight\n",
      "Fitting model for 150 rounds, 4 tree depth, 1.0 sampling rate, 2.8713450292397664 positive sample weight\n",
      "Fitting model for 150 rounds, 4 tree depth, 1.0 sampling rate, 5 positive sample weight\n",
      "Fitting model for 150 rounds, 4 tree depth, 0.8 sampling rate, 1 positive sample weight\n",
      "Fitting model for 150 rounds, 4 tree depth, 0.8 sampling rate, 2.8713450292397664 positive sample weight\n",
      "Fitting model for 150 rounds, 4 tree depth, 0.8 sampling rate, 5 positive sample weight\n",
      "Fitting model for 150 rounds, 4 tree depth, 0.6 sampling rate, 1 positive sample weight\n",
      "Fitting model for 150 rounds, 4 tree depth, 0.6 sampling rate, 2.8713450292397664 positive sample weight\n",
      "Fitting model for 150 rounds, 4 tree depth, 0.6 sampling rate, 5 positive sample weight\n",
      "Fitting model for 150 rounds, 5 tree depth, 1.0 sampling rate, 1 positive sample weight\n",
      "Fitting model for 150 rounds, 5 tree depth, 1.0 sampling rate, 2.8713450292397664 positive sample weight\n",
      "Fitting model for 150 rounds, 5 tree depth, 1.0 sampling rate, 5 positive sample weight\n",
      "Fitting model for 150 rounds, 5 tree depth, 0.8 sampling rate, 1 positive sample weight\n",
      "Fitting model for 150 rounds, 5 tree depth, 0.8 sampling rate, 2.8713450292397664 positive sample weight\n",
      "Fitting model for 150 rounds, 5 tree depth, 0.8 sampling rate, 5 positive sample weight\n",
      "Fitting model for 150 rounds, 5 tree depth, 0.6 sampling rate, 1 positive sample weight\n",
      "Fitting model for 150 rounds, 5 tree depth, 0.6 sampling rate, 2.8713450292397664 positive sample weight\n",
      "Fitting model for 150 rounds, 5 tree depth, 0.6 sampling rate, 5 positive sample weight\n",
      "Fitting model for 200 rounds, 3 tree depth, 1.0 sampling rate, 1 positive sample weight\n",
      "Fitting model for 200 rounds, 3 tree depth, 1.0 sampling rate, 2.8713450292397664 positive sample weight\n",
      "Fitting model for 200 rounds, 3 tree depth, 1.0 sampling rate, 5 positive sample weight\n",
      "Fitting model for 200 rounds, 3 tree depth, 0.8 sampling rate, 1 positive sample weight\n",
      "Fitting model for 200 rounds, 3 tree depth, 0.8 sampling rate, 2.8713450292397664 positive sample weight\n",
      "Fitting model for 200 rounds, 3 tree depth, 0.8 sampling rate, 5 positive sample weight\n",
      "Fitting model for 200 rounds, 3 tree depth, 0.6 sampling rate, 1 positive sample weight\n",
      "Fitting model for 200 rounds, 3 tree depth, 0.6 sampling rate, 2.8713450292397664 positive sample weight\n"
     ]
    },
    {
     "name": "stdout",
     "output_type": "stream",
     "text": [
      "Fitting model for 200 rounds, 3 tree depth, 0.6 sampling rate, 5 positive sample weight\n",
      "Fitting model for 200 rounds, 4 tree depth, 1.0 sampling rate, 1 positive sample weight\n",
      "Fitting model for 200 rounds, 4 tree depth, 1.0 sampling rate, 2.8713450292397664 positive sample weight\n",
      "Fitting model for 200 rounds, 4 tree depth, 1.0 sampling rate, 5 positive sample weight\n",
      "Fitting model for 200 rounds, 4 tree depth, 0.8 sampling rate, 1 positive sample weight\n",
      "Fitting model for 200 rounds, 4 tree depth, 0.8 sampling rate, 2.8713450292397664 positive sample weight\n",
      "Fitting model for 200 rounds, 4 tree depth, 0.8 sampling rate, 5 positive sample weight\n",
      "Fitting model for 200 rounds, 4 tree depth, 0.6 sampling rate, 1 positive sample weight\n",
      "Fitting model for 200 rounds, 4 tree depth, 0.6 sampling rate, 2.8713450292397664 positive sample weight\n",
      "Fitting model for 200 rounds, 4 tree depth, 0.6 sampling rate, 5 positive sample weight\n",
      "Fitting model for 200 rounds, 5 tree depth, 1.0 sampling rate, 1 positive sample weight\n",
      "Fitting model for 200 rounds, 5 tree depth, 1.0 sampling rate, 2.8713450292397664 positive sample weight\n",
      "Fitting model for 200 rounds, 5 tree depth, 1.0 sampling rate, 5 positive sample weight\n",
      "Fitting model for 200 rounds, 5 tree depth, 0.8 sampling rate, 1 positive sample weight\n",
      "Fitting model for 200 rounds, 5 tree depth, 0.8 sampling rate, 2.8713450292397664 positive sample weight\n",
      "Fitting model for 200 rounds, 5 tree depth, 0.8 sampling rate, 5 positive sample weight\n",
      "Fitting model for 200 rounds, 5 tree depth, 0.6 sampling rate, 1 positive sample weight\n",
      "Fitting model for 200 rounds, 5 tree depth, 0.6 sampling rate, 2.8713450292397664 positive sample weight\n",
      "Fitting model for 200 rounds, 5 tree depth, 0.6 sampling rate, 5 positive sample weight\n"
     ]
    }
   ],
   "source": [
    "# your code here\n",
    "n_estimators = [50, 100, 150, 200]\n",
    "max_depth    = [3, 4, 5]\n",
    "subsample    = [1.0, 0.8, 0.6]\n",
    "scale_pos_weight = [1, 1 / y_train.mean(), 5]\n",
    "cv_scores    = []\n",
    "\n",
    "for estimator in n_estimators:\n",
    "    for depth in max_depth:\n",
    "        for sample in subsample:\n",
    "            for weight in scale_pos_weight:\n",
    "                mod.set_params(n_estimators = estimator, max_depth = depth, subsample = sample, scale_pos_weight = weight)\n",
    "                print(f\"Fitting model for {estimator} rounds, {depth} tree depth, {sample} sampling rate, {weight} positive sample weight\")\n",
    "                mod.fit(X_train, y_train)\n",
    "                score = f1_score(mod.predict(X_val), y_val)\n",
    "                cv_scores.append((score, estimator, depth, sample, weight))"
   ]
  },
  {
   "cell_type": "markdown",
   "metadata": {},
   "source": [
    "**Step 4:** Refit your model on all of your training data and get your test score."
   ]
  },
  {
   "cell_type": "code",
   "execution_count": 34,
   "metadata": {},
   "outputs": [
    {
     "data": {
      "text/plain": [
       "(0.6966292134831461, 50, 3, 0.8, 5)"
      ]
     },
     "execution_count": 34,
     "metadata": {},
     "output_type": "execute_result"
    }
   ],
   "source": [
    "# your code here\n",
    "max(cv_scores)"
   ]
  },
  {
   "cell_type": "code",
   "execution_count": 35,
   "metadata": {},
   "outputs": [
    {
     "data": {
      "text/plain": [
       "XGBClassifier(base_score=0.5, booster='gbtree', colsample_bylevel=1,\n",
       "              colsample_bynode=1, colsample_bytree=1, enable_categorical=False,\n",
       "              eval_metric='logloss', gamma=0, gpu_id=-1, importance_type=None,\n",
       "              interaction_constraints='', learning_rate=0.300000012,\n",
       "              max_delta_step=0, max_depth=3, min_child_weight=1, missing=nan,\n",
       "              monotone_constraints='()', n_estimators=150, n_jobs=4,\n",
       "              num_parallel_tree=1, predictor='auto', random_state=0,\n",
       "              reg_alpha=0, reg_lambda=1, scale_pos_weight=5, subsample=0.6,\n",
       "              tree_method='exact', validate_parameters=1, verbosity=None)"
      ]
     },
     "execution_count": 35,
     "metadata": {},
     "output_type": "execute_result"
    }
   ],
   "source": [
    "mod.set_params(n_estimators = 150, max_depth = 3, subsample = 0.6, scale_pos_weight = 5)"
   ]
  },
  {
   "cell_type": "code",
   "execution_count": 36,
   "metadata": {},
   "outputs": [
    {
     "data": {
      "text/plain": [
       "XGBClassifier(base_score=0.5, booster='gbtree', colsample_bylevel=1,\n",
       "              colsample_bynode=1, colsample_bytree=1, enable_categorical=False,\n",
       "              eval_metric='logloss', gamma=0, gpu_id=-1, importance_type=None,\n",
       "              interaction_constraints='', learning_rate=0.300000012,\n",
       "              max_delta_step=0, max_depth=3, min_child_weight=1, missing=nan,\n",
       "              monotone_constraints='()', n_estimators=150, n_jobs=4,\n",
       "              num_parallel_tree=1, predictor='auto', random_state=0,\n",
       "              reg_alpha=0, reg_lambda=1, scale_pos_weight=5, subsample=0.6,\n",
       "              tree_method='exact', validate_parameters=1, verbosity=None)"
      ]
     },
     "execution_count": 36,
     "metadata": {},
     "output_type": "execute_result"
    }
   ],
   "source": [
    "mod.fit(X_train, y_train)"
   ]
  },
  {
   "cell_type": "code",
   "execution_count": 37,
   "metadata": {},
   "outputs": [
    {
     "data": {
      "image/png": "[encoded data removed]",
      "text/plain": [
       "<Figure size 432x288 with 2 Axes>"
      ]
     },
     "metadata": {
      "needs_background": "light"
     },
     "output_type": "display_data"
    }
   ],
   "source": [
    "plot_confusion_matrix(mod, X_val, y_val, normalize = 'true');"
   ]
  },
  {
   "cell_type": "code",
   "execution_count": 38,
   "metadata": {},
   "outputs": [
    {
     "name": "stdout",
     "output_type": "stream",
     "text": [
      "              precision    recall  f1-score   support\n",
      "\n",
      "           0       0.80      0.82      0.81        78\n",
      "           1       0.67      0.64      0.66        45\n",
      "\n",
      "    accuracy                           0.76       123\n",
      "   macro avg       0.74      0.73      0.73       123\n",
      "weighted avg       0.75      0.76      0.75       123\n",
      "\n"
     ]
    }
   ],
   "source": [
    "print(classification_report(mod.predict(X_val), y_val))"
   ]
  },
  {
   "cell_type": "code",
   "execution_count": 39,
   "metadata": {},
   "outputs": [
    {
     "data": {
      "text/plain": [
       "0.5737704918032787"
      ]
     },
     "execution_count": 39,
     "metadata": {},
     "output_type": "execute_result"
    }
   ],
   "source": [
    "X_train = pd.concat([X_train, X_val])\n",
    "y_train = pd.concat([y_train, y_val])\n",
    "mod.fit(X_train, y_train)\n",
    "f1_score(mod.predict(X_test), y_test)"
   ]
  },
  {
   "cell_type": "code",
   "execution_count": null,
   "metadata": {},
   "outputs": [],
   "source": []
  }
 ],
 "metadata": {
  "kernelspec": {
   "display_name": "Python 3 (ipykernel)",
   "language": "python",
   "name": "python3"
  },
  "language_info": {
   "codemirror_mode": {
    "name": "ipython",
    "version": 3
   },
   "file_extension": ".py",
   "mimetype": "text/x-python",
   "name": "python",
   "nbconvert_exporter": "python",
   "pygments_lexer": "ipython3",
   "version": "3.8.8"
  }
 },
 "nbformat": 4,
 "nbformat_minor": 4
}
